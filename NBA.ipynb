{
 "cells": [
  {
   "cell_type": "markdown",
   "metadata": {},
   "source": [
    "# NBA : calcul de cote\n",
    "\n",
    "\n",
    "# TD de machine Learning\n",
    "\n",
    "**Elective** : Machine Learning   \n",
    "**Professeur** : Théophile Ravillion   \n",
    "**Date** : Jeudi 22 Avril 2021\n",
    "\n",
    "## Les données\n",
    "Fan de patin à glace et lassé des conversations de comptoir du dimanche midi qui tournent inévitablement autour du prochain match de NBA, vous avez décidé de mettre au point un modèle de prédiction qui vous permettra d'avoir facilement le dernier mot et d'être reconnu comme le devin de référence en la matière.\n",
    "\n",
    "Depuis longtemps, le baskett est une affaire de statistique, un grand nombre d'indicateur ont été mis au point par des stateux : https://www.basketball-reference.com/about/glossary.html \n",
    "\n",
    "https://www.basketball-reference.com/ contient de nombreuses données sur les matchs passés.\n",
    "\n",
    "Vous disposez d'un jeu de données agrégeant pour chaque match ces indicateurs de performance par équipe et par joueur observés lors des précédents matchs. \n",
    "\n",
    "## Votre défi :\n",
    "Estimez une cote pour chaque matchup de la saison régulière 2018-2019.\n",
    "\n",
    "## Livrable\n",
    "Un projet github contenant un notebook + un fichier cotes.csv contenant les cotes pour la saison 2018-2019.\n",
    "cotes.csv doit contenir le tableau des cotes de l'équipe jouant à domicile en fonction de l'équipe adverse jouant en exterieur.   \n",
    "En header l'id des équipes avec la convention de nommage suivante : {team_id}_away   \n",
    "En première colonne  : {team_id}_home   \n",
    "Chaque case doit correspondre à la cote de l'équipe jouant à domicile    \n",
    "\n",
    "Bonne chance !"
   ]
  },
  {
   "cell_type": "markdown",
   "metadata": {},
   "source": [
    "# Feuille de route\n",
    "\n",
    "Comment procéder ? \n",
    "Pour réaliser cet exercice, il vous faudra :\n",
    "\n",
    "## Récuperer les données "
   ]
  },
  {
   "cell_type": "code",
   "execution_count": 4,
   "metadata": {},
   "outputs": [],
   "source": [
    "import pandas as pd\n",
    "\n",
    "url_train = \"\" \n",
    "\n",
    "df_train = pd.read_csv(url_train, sep=',', decimal='.' )\n"
   ]
  },
  {
   "cell_type": "markdown",
   "metadata": {},
   "source": [
    "## description des données   \n",
    "Le DataFrame contient \n",
    "\n",
    "### Terminologie des colonnes : ###   \n",
    "\n",
    "`_past` :  signifie que cet indicateur a été calculé sur des données précédent le match\n",
    "\n",
    "`home_` :  désigne l'équipe jouant à domicile\n",
    "`away_` :  désigne l'équipe jouant à l'exterieur\n",
    "\n",
    "`player` : désigne un indicateur calculé en aggrégeant les performances individuelles des joueurs présents à ce match. Son absence signifie au contraire que l'indicateur est calculé sur la base de données qui concernent l'équipe.\n",
    "             \n",
    "`pct` :  désigne un pourcentage\n",
    "\n",
    "Pour le reste, se reporter à : https://www.basketball-reference.com/about/glossary.html\n",
    "\n",
    "### Liste des colonnes : ###    \n",
    "\n",
    "game_id : id du match    \n",
    "season : saison    \n",
    "away_id : id de l'équipe jouant à l'exterieur       \n",
    "away_name : nom de l'équipe jouant à l'exterieur     \n",
    "home_id : id de l'équipe jouant à domicile     \n",
    "home_name : nom de l'équipe jouant à domicile        \n",
    "datetime : jour du match    \n",
    "home_win : 1 si l'équipe à domicile l'a emporté. Sinon, 0. \n",
    "\n",
    "**Indicateurs de l'équipe jouant à domicile :**   \n",
    "home_efg_past    \n",
    "home_ftfga_past    \n",
    "home_ftscore_past    \n",
    "home_orb_past    \n",
    "home_ortg_past    \n",
    "home_pace_past    \n",
    "home_tov_past    \n",
    "home_win_past    \n",
    "\n",
    "**Indicateurs de l'équipe jouant à l'exterieur :**   \n",
    "away_efg_past    \n",
    "away_ftfga_past    \n",
    "away_ftscore_past    \n",
    "away_orb_past    \n",
    "away_ortg_past    \n",
    "away_pace_past    \n",
    "away_tov_past    \n",
    "away_win_past \n",
    "\n",
    "**Indicateurs calculés sur la base des précédentes rencontres des deux mêmes équipes** :   \n",
    "win_pct_same_matchup : % de victoire de l'équipe jouant à domicile lors des précédentes rencontres des deux mêmes équipes dans la même configuration (home/away)\n",
    "\n",
    "win_pct_mirror_matchup : % de victoire de l'équipe jouant à domicile  lors des précédentes rencontres des deux mêmes équipes dans la configuration home/away inverse  \n",
    "\n",
    "**Indicateurs calculés sur la base des données passées des joueurs :**   \n",
    "plus_minus_player_away_past   \n",
    "plus_minus_player_home_past   \n",
    "ts_pct_player_away_past   \n",
    "ts_pct_player_home_past   \n",
    "efg_pct_player_away_past   \n",
    "efg_pct_player_home_past   \n",
    "3par_player_away_past   \n",
    "3par_player_home_past   \n",
    "ftr_player_away_past   \n",
    "ftr_player_home_past   \n",
    "orb_pct_player_away_past   \n",
    "orb_pct_player_home_past   \n",
    "drb_pct_player_away_past   \n",
    "drb_pct_player_home_past   \n",
    "trb_pct_player_away_past   \n",
    "trb_pct_player_home_past   \n",
    "ast_pct_player_away_past   \n",
    "ast_pct_player_home_past   \n",
    "stl_pct_player_away_past   \n",
    "stl_pct_player_home_past   \n",
    "blk_pct_player_away_past   \n",
    "blk_pct_player_home_past   \n",
    "tov_pct_player_away_past   \n",
    "tov_pct_player_home_past   \n",
    "usg_pct_player_away_past   \n",
    "usg_pct_player_home_past   \n",
    "ortg_player_away_past   \n",
    "ortg_player_home_past   \n",
    "drtg_player_away_past   \n",
    "drtg_player_home_past   \n",
    "bpm_player_away_past   \n",
    "bpm_player_home_past   \n",
    "game_score_player_away_past   \n",
    "game_score_player_home_past   "
   ]
  },
  {
   "cell_type": "code",
   "execution_count": null,
   "metadata": {},
   "outputs": [],
   "source": [
    " "
   ]
  },
  {
   "cell_type": "markdown",
   "metadata": {},
   "source": [
    "## Analyser les données  \n",
    "Identifier la distribution de chaque variable  \n",
    "Données manquantes    \n",
    "Données aberrantes   \n",
    "Données corrélées entre elles  \n",
    "\n",
    "### Boite à outils :   \n",
    "**Décrire le contenu d'un dataframe pandas**   \n",
    "`df.info()`   \n",
    "`df.describe()`   \n",
    "\n",
    "Gallerie Seaborn : https://seaborn.pydata.org/examples/index.html#   \n",
    "Histograme : https://seaborn.pydata.org/generated/seaborn.histplot.html   \n",
    "PairPlot : https://seaborn.pydata.org/generated/seaborn.pairplot.html   \n",
    "Corrélogramme : https://seaborn.pydata.org/generated/seaborn.heatmap.html   \n",
    "\n",
    "**Imputation des valeurs manquantes :**   \n",
    "KNNImputer : https://scikit-learn.org/stable/modules/generated/sklearn.impute.KNNImputer.html  \n",
    "`df['var1'] = df['var1'].fillna(df['var1'].mean())`  \n",
    "`df['var1'] = df['var1'].fillna(df['var1'].median())`  \n",
    "`df['var1'] = df['var1'].fillna(df['var1'].mode())`  \n",
    "`df['var1'] = df['var1'].fillna(method='ffill')`\n",
    "\n",
    "**Quelques fonctions pandas utiles :**  \n",
    "**Supprimer la ligne** i du dataframe df :   \n",
    "`df.drop(i, axis=0, inplace=True)`\n",
    "  \n",
    "**Supprimer la colonne** c du dataframe df :   \n",
    "`df.drop(i, axis=1, inplace=True)`\n",
    "  \n",
    "**Appliquer la fonction f** sur la colonne c du dataframe df :   \n",
    "`df[c] = df[c].apply(lambda x : f(x))`\n",
    "\n",
    "**Selectionner**  les 5 premiers éléments d'un dataframe df :   \n",
    "`df.head(5)`\n",
    "\n",
    "**Selectionner**  les 5 derniers éléments d'un dataframe df :   \n",
    "`df.tail(5)`\n",
    "\n",
    "**Selectionner**  les éléments d'un dataframe qui satisfont une condition :   \n",
    "ex : selectionner toutes les lignes dont le prix est supérieur à 100 :  \n",
    "`df[df['prix'] > 100]`"
   ]
  },
  {
   "cell_type": "code",
   "execution_count": null,
   "metadata": {},
   "outputs": [],
   "source": []
  },
  {
   "cell_type": "markdown",
   "metadata": {},
   "source": [
    "## Normaliser les données\n",
    "Choisir une méthode de normalisation, comparer les résultats obtenus avec différentes méthodes \n",
    "\n",
    "### Boite à outils\n",
    "\n",
    "K-NN : https://scikit-learn.org/stable/modules/generated/sklearn.neighbors.KNeighborsClassifier.html   \n",
    "Robust Scaler : https://scikit-learn.org/stable/modules/generated/sklearn.preprocessing.RobustScaler.html   \n",
    "StandardScaler : \n",
    "https://scikit-learn.org/stable/modules/generated/sklearn.preprocessing.StandardScaler.html#sklearn.preprocessing.StandardScaler         \n",
    "MinMaxScaler : \n",
    "https://scikit-learn.org/stable/modules/generated/sklearn.preprocessing.MinMaxScaler.html#sklearn.preprocessing.MinMaxScaler      "
   ]
  },
  {
   "cell_type": "code",
   "execution_count": null,
   "metadata": {},
   "outputs": [],
   "source": []
  },
  {
   "cell_type": "markdown",
   "metadata": {},
   "source": [
    "## Etudier l’opportunité d’une réduction de dimension\n",
    "- Tester les perfs obtenus pour différentes valeurs\n",
    "- Visualiser la variance expliquée par chaque axe\n",
    "- Justifier le nombre d’axes retenus\n",
    "\n",
    "### Boite à outils  \n",
    "Analyse en composante principale : https://scikit-learn.org/stable/modules/generated/sklearn.decomposition.PCA.html   "
   ]
  },
  {
   "cell_type": "code",
   "execution_count": null,
   "metadata": {},
   "outputs": [],
   "source": []
  },
  {
   "cell_type": "markdown",
   "metadata": {},
   "source": [
    "## Créer un échantillon non biaisé de validation\n",
    "A moins que vous n'utilisiez la k-fold validation (stratifiée ?)\n",
    "\n",
    "### Boite à outil :   \n",
    "`from sklearn.model_selection import train_test_split`  "
   ]
  },
  {
   "cell_type": "code",
   "execution_count": null,
   "metadata": {},
   "outputs": [],
   "source": []
  },
  {
   "cell_type": "markdown",
   "metadata": {},
   "source": [
    "## Entrainer différents algorithmes de classification\n",
    "\n",
    "`model = ...`   \n",
    "`model.fit(X_train, y_train)`\n",
    "\n",
    "### Boite à outils  \n",
    "SVM : https://scikit-learn.org/stable/modules/generated/sklearn.svm.SVC.html   \n",
    "Random Forest : https://scikit-learn.org/stable/modules/generated/sklearn.ensemble.RandomForestClassifier   \n",
    "Regression logistique : https://scikit-learn.org/stable/modules/generated/sklearn.linear_model.LogisticRegression.html   "
   ]
  },
  {
   "cell_type": "code",
   "execution_count": null,
   "metadata": {},
   "outputs": [],
   "source": []
  },
  {
   "cell_type": "markdown",
   "metadata": {},
   "source": [
    "## Comparer la performance de différents algorithmes\n",
    "Faire des prédictions et evaluer leur justesse de ces prédictions à l'aide de différents indicateurs :\n",
    "- Matrice de confusion\n",
    "- Accuracy\n",
    "- F-Score\n",
    "\n",
    "### Boite à outils  \n",
    "Un rapport de performance clé en main : https://scikit-learn.org/stable/modules/generated/sklearn.metrics.classification_report.html   \n",
    "\n",
    "Liste des différents indicateurs : https://scikit-learn.org/stable/modules/model_evaluation.html\n",
    "\n",
    "Faire une prédiction avec un model sklearn entrainé :   \n",
    "`y_pred_1 = model_1.predict(X_val, y_val)`   \n",
    "\n",
    "Eventuellement, on cherchera à estimer une probabilité :    \n",
    "`y_pred_1 = model_1.predict_proba(X_val, y_val)`   \n",
    "\n",
    "\n",
    "\n"
   ]
  },
  {
   "cell_type": "code",
   "execution_count": null,
   "metadata": {},
   "outputs": [],
   "source": []
  },
  {
   "cell_type": "markdown",
   "metadata": {},
   "source": [
    "## Optimiser les hyper-paramètres de l’algorithme retenu\n",
    "Tester différents hyper-paramètres pour tirer au mieux partit de l'algorithme retenu\n",
    "\n",
    "### Boite à outils  \n",
    "GridSearchCV :  https://scikit-learn.org/stable/modules/generated/sklearn.model_selection.GridSearchCV.html\n",
    "\n"
   ]
  },
  {
   "cell_type": "code",
   "execution_count": null,
   "metadata": {},
   "outputs": [],
   "source": []
  },
  {
   "cell_type": "markdown",
   "metadata": {},
   "source": [
    "## Calculer cotes pour la saison 2018-2019\n",
    "\n",
    "**Rappel de stat :**    \n",
    "Si l'équipe A à Pa=80% de chance de victoire contre l'équipe B, alors la cote de A se calcul :   \n",
    "Ca = 1/Pa = 1.25\n",
    "\n",
    "Créez un fichier cotes.csv contenant les cotes.   \n",
    "\n",
    "En header l'id des équipes avec la convention de nommage suivante : {team_id}_away   \n",
    "En première colonne  : {team_id}_home   \n",
    "Chaque case doit correspondre à la cote de l'équipe jouant à domicile    \n",
    "\n",
    "Vérifier que votre notebook fonctionne avant de le rendre.    \n",
    "Si possible : redémarrez le et faites le tourner en entier\n",
    "\n",
    "\n",
    "### Boite à outils  \n",
    "exporter un dataFrame pandas au format csv :   \n",
    "`df_cote.to_csv('data/cotes.csv' , sep=',', decimal='.')`"
   ]
  },
  {
   "cell_type": "code",
   "execution_count": null,
   "metadata": {},
   "outputs": [],
   "source": []
  }
 ],
 "metadata": {
  "kernelspec": {
   "display_name": "Python 3",
   "language": "python",
   "name": "python3"
  },
  "language_info": {
   "codemirror_mode": {
    "name": "ipython",
    "version": 3
   },
   "file_extension": ".py",
   "mimetype": "text/x-python",
   "name": "python",
   "nbconvert_exporter": "python",
   "pygments_lexer": "ipython3",
   "version": "3.7.6"
  }
 },
 "nbformat": 4,
 "nbformat_minor": 2
}
